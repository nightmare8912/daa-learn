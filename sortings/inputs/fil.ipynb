{
 "cells": [
  {
   "cell_type": "code",
   "execution_count": 2,
   "metadata": {},
   "outputs": [
    {
     "ename": "SyntaxError",
     "evalue": "invalid syntax (2279982140.py, line 3)",
     "output_type": "error",
     "traceback": [
      "\u001b[1;36m  Cell \u001b[1;32mIn[2], line 3\u001b[1;36m\u001b[0m\n\u001b[1;33m    using namespace std;\u001b[0m\n\u001b[1;37m          ^\u001b[0m\n\u001b[1;31mSyntaxError\u001b[0m\u001b[1;31m:\u001b[0m invalid syntax\n"
     ]
    }
   ],
   "source": [
    "#include<iostream>\n",
    "#include<fstream>\n",
    "using namespace std;\n",
    "int main(){\n",
    "    int a,b=0,c;\n",
    "    ifstream read;\n",
    "    read.open(\"check.txt\");\n",
    "    read>>a;\n",
    "    while(!read.eof()){\n",
    "        read>>c;\n",
    "        //cout<<c<<\" \";\n",
    "        if(!read.eof())\n",
    "            b++;\n",
    "    }\n",
    "    cout<<endl<<\"b = \"<<b<<endl;\n",
    "    if(a!=b)\n",
    "        cout<<\"ERROR! ,a = \"<<a;\n",
    "    read.close();    \n",
    "}"
   ]
  }
 ],
 "metadata": {
  "kernelspec": {
   "display_name": "Python 3",
   "language": "python",
   "name": "python3"
  },
  "language_info": {
   "codemirror_mode": {
    "name": "ipython",
    "version": 3
   },
   "file_extension": ".py",
   "mimetype": "text/x-python",
   "name": "python",
   "nbconvert_exporter": "python",
   "pygments_lexer": "ipython3",
   "version": "3.11.2"
  },
  "orig_nbformat": 4
 },
 "nbformat": 4,
 "nbformat_minor": 2
}
